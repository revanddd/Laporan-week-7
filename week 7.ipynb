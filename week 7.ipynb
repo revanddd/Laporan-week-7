{
 "cells": [
  {
   "cell_type": "code",
   "execution_count": 11,
   "metadata": {},
   "outputs": [
    {
     "name": "stdout",
     "output_type": "stream",
     "text": [
      "kasur dan rusak adalah anagram.\n"
     ]
    }
   ],
   "source": [
    "kata1 = input(\"Masukkan kata pertama: \")\n",
    "kata2 = input(\"Masukkan kata kedua: \")\n",
    "kata1 = kata1.replace(\" \", \"\").lower()\n",
    "kata2 = kata2.replace(\" \", \"\").lower()\n",
    "\n",
    "sorted_kata1 = sorted(kata1)\n",
    "sorted_kata2 = sorted(kata2)\n",
    "\n",
    "if sorted_kata1 == sorted_kata2:\n",
    "    print(f\"{kata1} dan {kata2} adalah anagram.\")\n",
    "else:\n",
    "    print(f\"{kata1} dan {kata2} bukan anagram.\")\n"
   ]
  },
  {
   "cell_type": "code",
   "execution_count": 9,
   "metadata": {},
   "outputs": [
    {
     "name": "stdout",
     "output_type": "stream",
     "text": [
      "makan ada 2 buah\n"
     ]
    }
   ],
   "source": [
    "kalimat = \"Saya mau makan. Makan itu wajib. Mau siang atau malam saya wajib makan\"\n",
    "kata = \"makan\"\n",
    "kalimat = kalimat.lower()\n",
    "kata = kata.lower()\n",
    "kemunculan = kalimat.count(kata)\n",
    "\n",
    "print(f\"{kata} ada {kemunculan} buah\")\n"
   ]
  },
  {
   "cell_type": "code",
   "execution_count": 14,
   "metadata": {},
   "outputs": [
    {
     "name": "stdout",
     "output_type": "stream",
     "text": [
      "String input: saya    tidak   suka   memancing  ikan    \n",
      "String output: saya tidak suka memancing ikan\n"
     ]
    }
   ],
   "source": [
    "string_input = \"saya    tidak   suka   memancing  ikan    \"\n",
    "string_output = ' '.join(string_input.split())\n",
    "\n",
    "print(\"String input:\", string_input)\n",
    "print(\"String output:\", string_output)\n"
   ]
  },
  {
   "cell_type": "code",
   "execution_count": 16,
   "metadata": {},
   "outputs": [
    {
     "name": "stdout",
     "output_type": "stream",
     "text": [
      "Terpendek:  a\n",
      "Terpanjang:  snakes\n"
     ]
    }
   ],
   "source": [
    "kal = \"red snakes and a black frog in the pool\"\n",
    "words = kal.split(' ')\n",
    "kata_terpendek = words[0]\n",
    "kata_terpanjang = words[0]\n",
    "\n",
    "for kata in words:\n",
    "    if len(kata) < len(kata_terpendek):\n",
    "        kata_terpendek = kata\n",
    "    if len(kata) > len(kata_terpanjang):\n",
    "        kata_terpanjang = kata\n",
    "    \n",
    "    \n",
    "print(\"Terpendek: \", kata_terpendek)\n",
    "print(\"Terpanjang: \", kata_terpanjang)"
   ]
  }
 ],
 "metadata": {
  "kernelspec": {
   "display_name": "Python 3",
   "language": "python",
   "name": "python3"
  },
  "language_info": {
   "codemirror_mode": {
    "name": "ipython",
    "version": 3
   },
   "file_extension": ".py",
   "mimetype": "text/x-python",
   "name": "python",
   "nbconvert_exporter": "python",
   "pygments_lexer": "ipython3",
   "version": "3.12.0"
  }
 },
 "nbformat": 4,
 "nbformat_minor": 2
}
